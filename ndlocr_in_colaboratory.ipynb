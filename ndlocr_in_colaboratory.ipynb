{
  "nbformat": 4,
  "nbformat_minor": 0,
  "metadata": {
    "colab": {
      "provenance": [],
      "gpuType": "T4",
      "collapsed_sections": [
        "kMy9W3pBUjkj",
        "RPdwW6oCcum6",
        "A-pUUiJCiKty",
        "KX834gzzCeR1"
      ],
      "authorship_tag": "ABX9TyP6SXt4R5+6Zhtx8YcIjyLK",
      "include_colab_link": true
    },
    "kernelspec": {
      "name": "python3",
      "display_name": "Python 3"
    },
    "language_info": {
      "name": "python"
    },
    "accelerator": "GPU"
  },
  "cells": [
    {
      "cell_type": "markdown",
      "metadata": {
        "id": "view-in-github",
        "colab_type": "text"
      },
      "source": [
        "<a href=\"https://colab.research.google.com/github/peter-yanase/ndlocr_remix/blob/main/ndlocr_in_colaboratory.ipynb\" target=\"_parent\"><img src=\"https://colab.research.google.com/assets/colab-badge.svg\" alt=\"Open In Colab\"/></a>"
      ]
    },
    {
      "cell_type": "markdown",
      "source": [
        "# NDLOCRの実行例： 最小限のリソースでOCRを実行する"
      ],
      "metadata": {
        "id": "sqazcy1hYrgG"
      }
    },
    {
      "cell_type": "markdown",
      "source": [
        "## 開発目的\n",
        "\n",
        "- 各サーバーへの負担を軽減すること\n",
        "- 立ち上げに必要な時間を大幅に短縮化すること\n",
        "- ndlocr_cliを通さず、各推論処理を別々に実行すること\n",
        "- GPUが必要とそうでないプロセスを切り分けること\n",
        "- ndlocrの仕組を明確にすること"
      ],
      "metadata": {
        "id": "JPVp3l8pZCoJ"
      }
    },
    {
      "cell_type": "markdown",
      "source": [
        "## 実行例"
      ],
      "metadata": {
        "id": "Fkal-bhpa7NP"
      }
    },
    {
      "cell_type": "markdown",
      "source": [
        "### Google Driveをマウントする\n",
        "\n",
        "**必須のステップ**"
      ],
      "metadata": {
        "id": "G_CwR97ra_Q1"
      }
    },
    {
      "cell_type": "code",
      "source": [
        "from pathlib import Path\n",
        "from google.colab import drive\n",
        "\n",
        "gdrive: Path = Path().cwd() / 'gdrive'\n",
        "drive.mount(str(gdrive))\n",
        "\n",
        "ndlocr: Path = gdrive / 'MyDrive' / 'ndlocr'"
      ],
      "metadata": {
        "id": "oljvfuldSaKY"
      },
      "execution_count": null,
      "outputs": []
    },
    {
      "cell_type": "markdown",
      "source": [
        "### separate_pages_ssd"
      ],
      "metadata": {
        "id": "7wcke-kSRW5B"
      }
    },
    {
      "cell_type": "code",
      "source": [
        "separate_pages_ssd = ndlocr / 'separate_pages_ssd'"
      ],
      "metadata": {
        "id": "xmsFz-bSdZjE"
      },
      "execution_count": null,
      "outputs": []
    },
    {
      "cell_type": "markdown",
      "source": [
        "#### インストール\n",
        "\n",
        "必要なファイルをGoogle Driveにコピーすることによって、各サーバーの負担を減らし、かつ立ち上げを高速化する。"
      ],
      "metadata": {
        "id": "kMy9W3pBUjkj"
      }
    },
    {
      "cell_type": "code",
      "source": [
        "!wget -nc https://raw.githubusercontent.com/ndl-lab/separate_pages_ssd/master/inference_divided.py -P {separate_pages_ssd}\n",
        "!wget -nc https://raw.githubusercontent.com/ndl-lab/separate_pages_ssd/master/ssd_tools/ssd_layers.py -P {ssd_tools}\n",
        "!wget -nc https://raw.githubusercontent.com/ndl-lab/separate_pages_ssd/master/ssd_tools/ssd.py -P {ssd_tools}\n",
        "!wget -nc https://raw.githubusercontent.com/ndl-lab/separate_pages_ssd/master/ssd_tools/ssd_utils.py -P {ssd_tools}\n",
        "!wget -nc https://raw.githubusercontent.com/ndl-lab/separate_pages_ssd/master/ssd_tools/dpiconfig.json -P {ssd_tools}"
      ],
      "metadata": {
        "id": "0P0P9s_lU8MA"
      },
      "execution_count": null,
      "outputs": []
    },
    {
      "cell_type": "code",
      "source": [
        "!wget -nc https://lab.ndl.go.jp/dataset/ndlocr/separate_pages_ssd/weights.hdf5 -P {ssd_tools}"
      ],
      "metadata": {
        "id": "N_1tGwuBW-Tz"
      },
      "execution_count": null,
      "outputs": []
    },
    {
      "cell_type": "markdown",
      "source": [
        "#### 実行\n",
        "\n",
        "GPUはなくてもいい"
      ],
      "metadata": {
        "id": "yoftkiGCk_X4"
      }
    },
    {
      "cell_type": "code",
      "source": [
        "%cd {separate_pages_ssd}"
      ],
      "metadata": {
        "id": "G6vaDqiGwKW2"
      },
      "execution_count": null,
      "outputs": []
    },
    {
      "cell_type": "markdown",
      "source": [
        "使い方の説明：　https://github.com/ndl-lab/separate_pages_ssd#%E4%BD%BF%E3%81%84%E6%96%B9"
      ],
      "metadata": {
        "id": "hoXFYEPDYaO6"
      }
    },
    {
      "cell_type": "code",
      "source": [
        "# テスト用サンプル画像\n",
        "# -----------------\n",
        "#!wget -nc https://dl.ndl.go.jp/api/iiif/799179/R0000036/full/full/0/default.jpg -P inference_input"
      ],
      "metadata": {
        "id": "dCGKpE4qchgH"
      },
      "execution_count": null,
      "outputs": []
    },
    {
      "cell_type": "code",
      "source": [
        "# テスト用画像のオプション設定\n",
        "# そのままで\n",
        "# --------\n",
        "#!python inference_divided.py"
      ],
      "metadata": {
        "id": "cZDq92IXXeyC"
      },
      "execution_count": null,
      "outputs": []
    },
    {
      "cell_type": "markdown",
      "source": [
        "### deskew_HT"
      ],
      "metadata": {
        "id": "79iMpZWBc-AE"
      }
    },
    {
      "cell_type": "code",
      "source": [
        "deskew_HT = ndlocr / 'deskew_HT'"
      ],
      "metadata": {
        "id": "TIe5BmDZen7D"
      },
      "execution_count": null,
      "outputs": []
    },
    {
      "cell_type": "markdown",
      "source": [
        "#### インストール\n",
        "\n",
        "必要なファイルをGoogle Driveにコピーすることによって、各サーバーの負担を減らし、かつ立ち上げを高速化する。"
      ],
      "metadata": {
        "id": "RPdwW6oCcum6"
      }
    },
    {
      "cell_type": "code",
      "source": [
        "alyn3 = deskew_HT / 'alyn3'"
      ],
      "metadata": {
        "id": "sBOfXPDZvPlz"
      },
      "execution_count": null,
      "outputs": []
    },
    {
      "cell_type": "code",
      "source": [
        "!wget -nc https://raw.githubusercontent.com/ndl-lab/deskew_HT/master/alyn3/deskew.py -P {alyn3}\n",
        "!wget -nc https://raw.githubusercontent.com/ndl-lab/deskew_HT/master/alyn3/skew_detect.py -P {alyn3}"
      ],
      "metadata": {
        "id": "Ssp_VKqdevLt"
      },
      "execution_count": null,
      "outputs": []
    },
    {
      "cell_type": "code",
      "source": [
        "!wget -nc https://raw.githubusercontent.com/ndl-lab/deskew_HT/master/run_deskew.py -P {deskew_HT}"
      ],
      "metadata": {
        "id": "ImHAxV3Ree0n"
      },
      "execution_count": null,
      "outputs": []
    },
    {
      "cell_type": "markdown",
      "source": [
        "#### 実行\n",
        "\n",
        "GPUは不要"
      ],
      "metadata": {
        "id": "B996GFW21y2i"
      }
    },
    {
      "cell_type": "code",
      "source": [
        "%cd {deskew_HT}"
      ],
      "metadata": {
        "id": "lraRVcrawA6j"
      },
      "execution_count": null,
      "outputs": []
    },
    {
      "cell_type": "code",
      "source": [
        "!python run_deskew.py"
      ],
      "metadata": {
        "id": "tnwHkhjNfNxA"
      },
      "execution_count": null,
      "outputs": []
    },
    {
      "cell_type": "markdown",
      "source": [
        "使い方の説明：　https://github.com/ndl-lab/deskew_HT#%E4%BD%BF%E3%81%84%E6%96%B9"
      ],
      "metadata": {
        "id": "clXpytGIXwSE"
      }
    },
    {
      "cell_type": "code",
      "source": [
        "# テスト用サンプル画像\n",
        "# -----------------\n",
        "#!wget -nc https://raw.githubusercontent.com/kakul/Alyn/master/examples/4.jpg -P deskew_input"
      ],
      "metadata": {
        "id": "sg5MtdNARJKb"
      },
      "execution_count": null,
      "outputs": []
    },
    {
      "cell_type": "code",
      "source": [
        "# テスト用画像のオプション設定\n",
        "#　画像のフォルダーを指定し、精度と修正の最大値を上げた\n",
        "# --------------------------------------------\n",
        "#!python run_deskew.py \\\n",
        "#    deskew_input \\\n",
        "#    -a 0.1 \\\n",
        "#    -s 15"
      ],
      "metadata": {
        "id": "MxrkCD_vdN5P"
      },
      "execution_count": null,
      "outputs": []
    },
    {
      "cell_type": "markdown",
      "source": [
        "### ndl_layout"
      ],
      "metadata": {
        "id": "QJTM5msa2mrx"
      }
    },
    {
      "cell_type": "code",
      "source": [
        "ndl_layout = ndlocr / 'ndl_layout'\n",
        "layout_models = ndl_layout / 'models'\n",
        "mmcv = ndl_layout / 'mmcv'"
      ],
      "metadata": {
        "id": "5STVOo5q5eYX"
      },
      "execution_count": null,
      "outputs": []
    },
    {
      "cell_type": "markdown",
      "source": [
        "#### インストール\n",
        "\n",
        "必要なファイルをGoogle Driveにコピーすることによって、各サーバーの負担を減らし、かつ立ち上げを高速化する。"
      ],
      "metadata": {
        "id": "A-pUUiJCiKty"
      }
    },
    {
      "cell_type": "code",
      "source": [
        "layout_tools = ndl_layout / 'tools'"
      ],
      "metadata": {
        "id": "klJwIUFNaUNj"
      },
      "execution_count": null,
      "outputs": []
    },
    {
      "cell_type": "code",
      "source": [
        "!wget -nc https://raw.githubusercontent.com/ndl-lab/ndl_layout/master/tools/process.py -P {layout_tools}\n",
        "!wget -nc https://raw.githubusercontent.com/ndl-lab/ndl_layout/master/tools/utils.py -P {layout_tools}\n",
        "!wget -nc https://raw.githubusercontent.com/ndl-lab/ndl_layout/master/tools/ndl_parser.py -P {layout_tools}\n",
        "!wget -nc https://raw.githubusercontent.com/ndl-lab/ndl_layout/master/models/ndl_layout_config.py -P {layout_models}"
      ],
      "metadata": {
        "id": "OGvGuTK2aHtA"
      },
      "execution_count": null,
      "outputs": []
    },
    {
      "cell_type": "code",
      "source": [
        "!wget -nc https://lab.ndl.go.jp/dataset/ndlocr/ndl_layout/epoch_140_all_eql_bt.pth -P {layout_models}"
      ],
      "metadata": {
        "id": "cinTq2n75qtQ"
      },
      "execution_count": null,
      "outputs": []
    },
    {
      "cell_type": "code",
      "source": [
        "!wget -nc https://download.openmmlab.com/mmcv/dist/cu118/torch2.0.0/mmcv-2.0.0-cp310-cp310-manylinux1_x86_64.whl -P {mmcv}"
      ],
      "metadata": {
        "id": "G-pK0slojYiC"
      },
      "execution_count": null,
      "outputs": []
    },
    {
      "cell_type": "markdown",
      "source": [
        "## 実行\n",
        "\n",
        "GPUは必須"
      ],
      "metadata": {
        "id": "Rw-5hfEZQHB0"
      }
    },
    {
      "cell_type": "code",
      "source": [
        "mmcv_wheel = [file for file in mmcv.iterdir()][0]\n",
        "\n",
        "!pip install {mmcv_wheel} mmdet==3.0.0"
      ],
      "metadata": {
        "id": "hChmoX_wiF3X"
      },
      "execution_count": null,
      "outputs": []
    },
    {
      "cell_type": "code",
      "source": [
        "%cd {ndl_layout}"
      ],
      "metadata": {
        "id": "imEU9mNyhDu-"
      },
      "execution_count": null,
      "outputs": []
    },
    {
      "cell_type": "code",
      "source": [
        "!python -m tools.process \\\n",
        "  --config ./models/ndl_layout_config.py \\\n",
        "  --checkpoint ./models/epoch_140_all_eql_bt.pth"
      ],
      "metadata": {
        "id": "WlQ04dc2g94F"
      },
      "execution_count": null,
      "outputs": []
    },
    {
      "cell_type": "markdown",
      "source": [
        "使い方の説明：　https://github.com/ndl-lab/ndl_layout#%E4%BD%BF%E3%81%84%E6%96%B9"
      ],
      "metadata": {
        "id": "qnUANeYfZKeL"
      }
    },
    {
      "cell_type": "code",
      "source": [
        "# テスト用サンプル画像\n",
        "#!wget -nc http://dglb01.ninjal.ac.jp/ninjaldl/meirokuzassi/007/jpg/mrzs007-020.jpg -P input/img"
      ],
      "metadata": {
        "id": "tO67p_mYj2SI"
      },
      "execution_count": null,
      "outputs": []
    },
    {
      "cell_type": "code",
      "source": [
        "# テスト用画像のオプション設定\n",
        "#　画像のフォルダーを指定した\n",
        "#　メモ：出力のパスはファイル名まで指定する必要がある。また、既存のフォルダーしか指定できない。\n",
        "# -----------------------------------------------------------------------------\n",
        "#!python -m tools.process \\\n",
        "#  --img_paths input/img/*.jpg \\\n",
        "#  --output_path input/xml/layout.xml \\\n",
        "#  --config models/ndl_layout_config.py \\\n",
        "#  --checkpoint models/epoch_140_all_eql_bt.pth"
      ],
      "metadata": {
        "id": "IBNakzCpjuSL"
      },
      "execution_count": null,
      "outputs": []
    },
    {
      "cell_type": "markdown",
      "source": [
        "## text_recognition\n"
      ],
      "metadata": {
        "id": "0FsKH0HvgKry"
      }
    },
    {
      "cell_type": "code",
      "source": [
        "text_recognition = ndlocr / 'text_recognition'"
      ],
      "metadata": {
        "id": "YatTiFdyieLn"
      },
      "execution_count": null,
      "outputs": []
    },
    {
      "cell_type": "markdown",
      "source": [
        "#### インストール\n",
        "\n",
        "必要なファイルをGoogle Driveにコピーすることによって、各サーバーの負担を減らし、かつ立ち上げを高速化する。"
      ],
      "metadata": {
        "id": "KX834gzzCeR1"
      }
    },
    {
      "cell_type": "code",
      "source": [
        "text_models = text_recognition / 'models'\n",
        "deeptext_modules = text_recognition / 'modules'"
      ],
      "metadata": {
        "id": "F7sMa53DiwU0"
      },
      "execution_count": null,
      "outputs": []
    },
    {
      "cell_type": "code",
      "source": [
        "!wget -nc https://raw.githubusercontent.com/ndl-lab/text_recognition/master/text_recognition.py -P {text_recognition}\n",
        "!wget -nc https://raw.githubusercontent.com/ndl-lab/text_recognition/master/xmlparser.py -P {text_recognition}"
      ],
      "metadata": {
        "id": "H2KesFe1kIgw"
      },
      "execution_count": null,
      "outputs": []
    },
    {
      "cell_type": "code",
      "source": [
        "!wget -nc https://lab.ndl.go.jp/dataset/ndlocr/text_recognition/mojilist_NDL.txt -P {text_models}\n",
        "!wget -nc https://lab.ndl.go.jp/dataset/ndlocr/text_recognition/ndlenfixed64-mj0-synth1.pth -P {text_models}"
      ],
      "metadata": {
        "id": "pb27y_r2s9v9"
      },
      "execution_count": null,
      "outputs": []
    },
    {
      "cell_type": "code",
      "source": [
        "!wget -nc https://raw.githubusercontent.com/ndl-lab/deep-text-recognition-benchmark/97e546b4e02855299e64398ac4f216668500fa17/utils.py -P {text_recognition}\n",
        "!wget -nc https://raw.githubusercontent.com/ndl-lab/deep-text-recognition-benchmark/97e546b4e02855299e64398ac4f216668500fa17/dataset.py -P {text_recognition}\n",
        "!wget -nc https://raw.githubusercontent.com/ndl-lab/deep-text-recognition-benchmark/97e546b4e02855299e64398ac4f216668500fa17/model.py -P {text_recognition}\n",
        "!wget -nc https://raw.githubusercontent.com/ndl-lab/deep-text-recognition-benchmark/97e546b4e02855299e64398ac4f216668500fa17/modules/feature_extraction.py -P {deeptext_modules}\n",
        "!wget -nc https://raw.githubusercontent.com/ndl-lab/deep-text-recognition-benchmark/97e546b4e02855299e64398ac4f216668500fa17/modules/prediction.py -P {deeptext_modules}\n",
        "!wget -nc https://raw.githubusercontent.com/ndl-lab/deep-text-recognition-benchmark/97e546b4e02855299e64398ac4f216668500fa17/modules/sequence_modeling.py -P {deeptext_modules}\n",
        "!wget -nc https://raw.githubusercontent.com/ndl-lab/deep-text-recognition-benchmark/97e546b4e02855299e64398ac4f216668500fa17/modules/transformation.py -P {deeptext_modules}"
      ],
      "metadata": {
        "id": "Jx8J_hQpa0t8"
      },
      "execution_count": null,
      "outputs": []
    },
    {
      "cell_type": "markdown",
      "source": [
        "## 実行\n",
        "\n",
        "GPUはあった方が早い"
      ],
      "metadata": {
        "id": "VGakcgzVlAaq"
      }
    },
    {
      "cell_type": "code",
      "source": [
        "!pip install lmdb"
      ],
      "metadata": {
        "id": "YEmyVkoDnDjJ"
      },
      "execution_count": null,
      "outputs": []
    },
    {
      "cell_type": "code",
      "source": [
        "%cd {text_recognition}"
      ],
      "metadata": {
        "id": "Z6A1V1pKnLzm"
      },
      "execution_count": null,
      "outputs": []
    },
    {
      "cell_type": "code",
      "source": [
        "!python text_recognition.py"
      ],
      "metadata": {
        "id": "IRwTDKcHkzAC"
      },
      "execution_count": null,
      "outputs": []
    },
    {
      "cell_type": "markdown",
      "source": [
        "使い方の説明：　https://github.com/ndl-lab/text_recognition#%E3%83%95%E3%82%A1%E3%82%A4%E3%83%AB%E3%81%AE%E8%AA%AC%E6%98%8E3"
      ],
      "metadata": {
        "id": "hgH7smTbEAlu"
      }
    },
    {
      "cell_type": "code",
      "source": [
        "# テスト用ファイルに関して\n",
        "# text_recognitionはndl_layoutで作ったxmlに基づいて処理を行うので、\n",
        "# まずndl_layoutのテストを実行して下さい。"
      ],
      "metadata": {
        "id": "xrCJ37DIHPZ8"
      },
      "execution_count": null,
      "outputs": []
    },
    {
      "cell_type": "code",
      "source": [
        "#input = ndl_layout / 'input'"
      ],
      "metadata": {
        "id": "lJ5kPgMkIQAS"
      },
      "execution_count": null,
      "outputs": []
    },
    {
      "cell_type": "code",
      "source": [
        "# ドキュメンテーションは少し説明不足なので、以下の設定を参照して下さい。\n",
        "# ---------------------------------------------------------\n",
        "#!python text_recognition.py \\\n",
        "#    --saved_model models/ndlenfixed64-mj0-synth1.pth \\\n",
        "#    --character \"〓$(cat models/mojilist_NDL.txt | tr -d '\\n')\" \\\n",
        "#    --imgW 1200 \\\n",
        "#    --workers -1 \\\n",
        "#    --sensitive \\\n",
        "#    --xml results \\\n",
        "#    --FeatureExtraction ResNet \\\n",
        "#    --Prediction CTC \\\n",
        "#    --PAD \\\n",
        "#    --SequenceModeling None \\\n",
        "#    --Transformation None \\\n",
        "#    --db_path {input}"
      ],
      "metadata": {
        "id": "aVqzFZ4NmxiF"
      },
      "execution_count": null,
      "outputs": []
    }
  ]
}